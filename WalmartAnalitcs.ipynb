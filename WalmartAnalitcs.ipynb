{
 "cells": [
  {
   "cell_type": "markdown",
   "metadata": {},
   "source": [
    "                  PROJETO de Portfólio\n",
    "\n",
    "                    Empresa Walmart\n",
    "\n",
    "                                                                \n",
    "              por Jean Carlo Balem Bonatto"
   ]
  },
  {
   "cell_type": "markdown",
   "metadata": {
    "id": "fDwCJu9p_ujr"
   },
   "source": [
    "## 1) Business Understanding"
   ]
  },
  {
   "cell_type": "markdown",
   "metadata": {},
   "source": [
    "### 1.1) Objetivo do Projeto"
   ]
  },
  {
   "cell_type": "markdown",
   "metadata": {},
   "source": [
    "A Gerência da operação global do Walmart precisa estruturar o planejamento para \n",
    "os próximos anos. Para isso, precisa de uma estimativa, baseada em dados, de \n",
    "quanto aquele departamento irá lucrar ao longo do ano."
   ]
  },
  {
   "cell_type": "markdown",
   "metadata": {},
   "source": [
    "## 2) Data Understanding"
   ]
  },
  {
   "attachments": {},
   "cell_type": "markdown",
   "metadata": {},
   "source": [
    "### 2.1) Entendimento dos Metadados"
   ]
  },
  {
   "cell_type": "markdown",
   "metadata": {},
   "source": [
    "São apresentados os dados de vendas semanais por departamento de 45 lojas do \n",
    "Walmart localizadas em diferentes regiões. \n",
    "\n",
    "Em adicional, também é fornecido variáveis como temperatura média da semana, preço do combustível, feriado, taxa \n",
    "de desemprego e outros valores.\n",
    "\n",
    "Também são apresentadas 5 variáveis chamadas Markdown, que representam \n",
    "dados anônimos relacionados a descontos promocionais."
   ]
  },
  {
   "cell_type": "markdown",
   "metadata": {},
   "source": [
    "##### Entendimento das Features"
   ]
  },
  {
   "cell_type": "markdown",
   "metadata": {},
   "source": [
    "Store: O número da loja\n",
    "\n",
    "Size: Tamanho da Loja\n",
    "\n",
    "Type: Tipo de Loja\n",
    "\n",
    "Departamento: Número departamento da Loja\n",
    "\n",
    "Date: especificando a semana (sexta-feira de cada semana) [Será \n",
    "utilizada somente para visualizações e não treinamento]\n",
    "\n",
    "Temperature: Temperatura média na região (em °F)\n",
    "\n",
    "FuelPrice: Custo do combustível na região\n",
    "\n",
    "Weekly Sales: Representa as vendas semanais\n",
    "\n",
    "Descrição dos Dados\n",
    "\n",
    "MarkDown1-5: Dados de promoção aplicadas nas lojas. Disponíveis \n",
    "apenas após novembro de 2011 e não estão disponíveis para todas as \n",
    "lojas o tempo todo. Qualquer valor ausente é marcado com Nulo (Ou \n",
    "seja, sem promoção).\n",
    "\n",
    "CPI: índice de preços ao consumidor (Consumer Price Index)\n",
    "\n",
    "Unployment: Taxa de desemprego\n",
    "\n",
    "IsHoliday: se a semana é um feriado especial"
   ]
  },
  {
   "attachments": {},
   "cell_type": "markdown",
   "metadata": {},
   "source": [
    "## 3) Data Preparation"
   ]
  },
  {
   "cell_type": "markdown",
   "metadata": {},
   "source": [
    "### 3.1) Import das Bibliotecas"
   ]
  },
  {
   "cell_type": "code",
   "execution_count": 82,
   "metadata": {
    "id": "FP5gEPx6ALKA"
   },
   "outputs": [],
   "source": [
    "#Bibliotecas de Tratamentos dos dados\n",
    "import pandas as pd\n",
    "import numpy as np\n",
    "\n",
    "#Biblioteca de Visualização dos dados\n",
    "import seaborn as sns\n",
    "import matplotlib.pyplot as plt\n",
    "\n",
    "#Biblioteca para Escalonamento das Váriaveis\n",
    "from sklearn.preprocessing import StandardScaler\n",
    "\n",
    "#Bibliotecas de Modeling\n",
    "from sklearn.model_selection import train_test_split, GridSearchCV\n",
    "from sklearn.linear_model import LinearRegression, SGDRegressor, HuberRegressor \n",
    "from sklearn.ensemble import GradientBoostingRegressor, ExtraTreesRegressor, RandomForestRegressor\n",
    "\n",
    "#Bibliotecas de Métricas\n",
    "from sklearn.metrics import mean_squared_error, r2_score, mean_absolute_error\n",
    "\n",
    "#Biblioteca para Pipeline\n",
    "from sklearn.pipeline import make_pipeline"
   ]
  },
  {
   "cell_type": "markdown",
   "metadata": {},
   "source": [
    "### 3.2) Import dos dados"
   ]
  },
  {
   "cell_type": "code",
   "execution_count": 83,
   "metadata": {
    "id": "kApymuvFAO7P"
   },
   "outputs": [],
   "source": [
    "features = pd.read_csv('features.csv', sep= \",\")\n",
    "stores = pd.read_csv('stores.csv', sep= \",\")\n",
    "dept = pd.read_csv('dept.csv', sep= \",\")"
   ]
  },
  {
   "cell_type": "code",
   "execution_count": 84,
   "metadata": {
    "colab": {
     "base_uri": "https://localhost:8080/",
     "height": 206
    },
    "id": "JbHbxfxzAgyn",
    "outputId": "6741ef78-58d5-4950-f8da-4b37d8cf4429"
   },
   "outputs": [
    {
     "name": "stdout",
     "output_type": "stream",
     "text": [
      "O Shape dos valores é: (8190, 12)\n"
     ]
    },
    {
     "data": {
      "text/html": [
       "<div>\n",
       "<style scoped>\n",
       "    .dataframe tbody tr th:only-of-type {\n",
       "        vertical-align: middle;\n",
       "    }\n",
       "\n",
       "    .dataframe tbody tr th {\n",
       "        vertical-align: top;\n",
       "    }\n",
       "\n",
       "    .dataframe thead th {\n",
       "        text-align: right;\n",
       "    }\n",
       "</style>\n",
       "<table border=\"1\" class=\"dataframe\">\n",
       "  <thead>\n",
       "    <tr style=\"text-align: right;\">\n",
       "      <th></th>\n",
       "      <th>Store</th>\n",
       "      <th>Date</th>\n",
       "      <th>Temperature</th>\n",
       "      <th>Fuel_Price</th>\n",
       "      <th>MarkDown1</th>\n",
       "      <th>MarkDown2</th>\n",
       "      <th>MarkDown3</th>\n",
       "      <th>MarkDown4</th>\n",
       "      <th>MarkDown5</th>\n",
       "      <th>CPI</th>\n",
       "      <th>Unemployment</th>\n",
       "      <th>IsHoliday</th>\n",
       "    </tr>\n",
       "  </thead>\n",
       "  <tbody>\n",
       "    <tr>\n",
       "      <th>0</th>\n",
       "      <td>1</td>\n",
       "      <td>2010-02-05</td>\n",
       "      <td>42.31</td>\n",
       "      <td>2.572</td>\n",
       "      <td>NaN</td>\n",
       "      <td>NaN</td>\n",
       "      <td>NaN</td>\n",
       "      <td>NaN</td>\n",
       "      <td>NaN</td>\n",
       "      <td>211.096358</td>\n",
       "      <td>8.106</td>\n",
       "      <td>False</td>\n",
       "    </tr>\n",
       "    <tr>\n",
       "      <th>1</th>\n",
       "      <td>1</td>\n",
       "      <td>2010-02-12</td>\n",
       "      <td>38.51</td>\n",
       "      <td>2.548</td>\n",
       "      <td>NaN</td>\n",
       "      <td>NaN</td>\n",
       "      <td>NaN</td>\n",
       "      <td>NaN</td>\n",
       "      <td>NaN</td>\n",
       "      <td>211.242170</td>\n",
       "      <td>8.106</td>\n",
       "      <td>True</td>\n",
       "    </tr>\n",
       "    <tr>\n",
       "      <th>2</th>\n",
       "      <td>1</td>\n",
       "      <td>2010-02-19</td>\n",
       "      <td>39.93</td>\n",
       "      <td>2.514</td>\n",
       "      <td>NaN</td>\n",
       "      <td>NaN</td>\n",
       "      <td>NaN</td>\n",
       "      <td>NaN</td>\n",
       "      <td>NaN</td>\n",
       "      <td>211.289143</td>\n",
       "      <td>8.106</td>\n",
       "      <td>False</td>\n",
       "    </tr>\n",
       "    <tr>\n",
       "      <th>3</th>\n",
       "      <td>1</td>\n",
       "      <td>2010-02-26</td>\n",
       "      <td>46.63</td>\n",
       "      <td>2.561</td>\n",
       "      <td>NaN</td>\n",
       "      <td>NaN</td>\n",
       "      <td>NaN</td>\n",
       "      <td>NaN</td>\n",
       "      <td>NaN</td>\n",
       "      <td>211.319643</td>\n",
       "      <td>8.106</td>\n",
       "      <td>False</td>\n",
       "    </tr>\n",
       "    <tr>\n",
       "      <th>4</th>\n",
       "      <td>1</td>\n",
       "      <td>2010-03-05</td>\n",
       "      <td>46.50</td>\n",
       "      <td>2.625</td>\n",
       "      <td>NaN</td>\n",
       "      <td>NaN</td>\n",
       "      <td>NaN</td>\n",
       "      <td>NaN</td>\n",
       "      <td>NaN</td>\n",
       "      <td>211.350143</td>\n",
       "      <td>8.106</td>\n",
       "      <td>False</td>\n",
       "    </tr>\n",
       "  </tbody>\n",
       "</table>\n",
       "</div>"
      ],
      "text/plain": [
       "   Store        Date  Temperature  Fuel_Price  MarkDown1  MarkDown2  \\\n",
       "0      1  2010-02-05        42.31       2.572        NaN        NaN   \n",
       "1      1  2010-02-12        38.51       2.548        NaN        NaN   \n",
       "2      1  2010-02-19        39.93       2.514        NaN        NaN   \n",
       "3      1  2010-02-26        46.63       2.561        NaN        NaN   \n",
       "4      1  2010-03-05        46.50       2.625        NaN        NaN   \n",
       "\n",
       "   MarkDown3  MarkDown4  MarkDown5         CPI  Unemployment  IsHoliday  \n",
       "0        NaN        NaN        NaN  211.096358         8.106      False  \n",
       "1        NaN        NaN        NaN  211.242170         8.106       True  \n",
       "2        NaN        NaN        NaN  211.289143         8.106      False  \n",
       "3        NaN        NaN        NaN  211.319643         8.106      False  \n",
       "4        NaN        NaN        NaN  211.350143         8.106      False  "
      ]
     },
     "execution_count": 84,
     "metadata": {},
     "output_type": "execute_result"
    }
   ],
   "source": [
    "print(\"O Shape dos valores é:\", features.shape)\n",
    "features.head()"
   ]
  },
  {
   "cell_type": "code",
   "execution_count": 85,
   "metadata": {
    "colab": {
     "base_uri": "https://localhost:8080/"
    },
    "id": "KIOClDr9BHlY",
    "outputId": "9119902c-ad14-4ab4-8339-4771be712dcf"
   },
   "outputs": [
    {
     "name": "stdout",
     "output_type": "stream",
     "text": [
      "O Shape dos valores é: (45, 3)\n"
     ]
    },
    {
     "data": {
      "text/html": [
       "<div>\n",
       "<style scoped>\n",
       "    .dataframe tbody tr th:only-of-type {\n",
       "        vertical-align: middle;\n",
       "    }\n",
       "\n",
       "    .dataframe tbody tr th {\n",
       "        vertical-align: top;\n",
       "    }\n",
       "\n",
       "    .dataframe thead th {\n",
       "        text-align: right;\n",
       "    }\n",
       "</style>\n",
       "<table border=\"1\" class=\"dataframe\">\n",
       "  <thead>\n",
       "    <tr style=\"text-align: right;\">\n",
       "      <th></th>\n",
       "      <th>Store</th>\n",
       "      <th>Type</th>\n",
       "      <th>Size</th>\n",
       "    </tr>\n",
       "  </thead>\n",
       "  <tbody>\n",
       "    <tr>\n",
       "      <th>0</th>\n",
       "      <td>1</td>\n",
       "      <td>A</td>\n",
       "      <td>151315</td>\n",
       "    </tr>\n",
       "    <tr>\n",
       "      <th>1</th>\n",
       "      <td>2</td>\n",
       "      <td>A</td>\n",
       "      <td>202307</td>\n",
       "    </tr>\n",
       "    <tr>\n",
       "      <th>2</th>\n",
       "      <td>3</td>\n",
       "      <td>B</td>\n",
       "      <td>37392</td>\n",
       "    </tr>\n",
       "    <tr>\n",
       "      <th>3</th>\n",
       "      <td>4</td>\n",
       "      <td>A</td>\n",
       "      <td>205863</td>\n",
       "    </tr>\n",
       "    <tr>\n",
       "      <th>4</th>\n",
       "      <td>5</td>\n",
       "      <td>B</td>\n",
       "      <td>34875</td>\n",
       "    </tr>\n",
       "  </tbody>\n",
       "</table>\n",
       "</div>"
      ],
      "text/plain": [
       "   Store Type    Size\n",
       "0      1    A  151315\n",
       "1      2    A  202307\n",
       "2      3    B   37392\n",
       "3      4    A  205863\n",
       "4      5    B   34875"
      ]
     },
     "execution_count": 85,
     "metadata": {},
     "output_type": "execute_result"
    }
   ],
   "source": [
    "print(\"O Shape dos valores é:\", stores.shape)\n",
    "stores.head()"
   ]
  },
  {
   "cell_type": "code",
   "execution_count": 86,
   "metadata": {},
   "outputs": [
    {
     "name": "stdout",
     "output_type": "stream",
     "text": [
      "O Shape dos valores é: (421570, 5)\n"
     ]
    },
    {
     "data": {
      "text/html": [
       "<div>\n",
       "<style scoped>\n",
       "    .dataframe tbody tr th:only-of-type {\n",
       "        vertical-align: middle;\n",
       "    }\n",
       "\n",
       "    .dataframe tbody tr th {\n",
       "        vertical-align: top;\n",
       "    }\n",
       "\n",
       "    .dataframe thead th {\n",
       "        text-align: right;\n",
       "    }\n",
       "</style>\n",
       "<table border=\"1\" class=\"dataframe\">\n",
       "  <thead>\n",
       "    <tr style=\"text-align: right;\">\n",
       "      <th></th>\n",
       "      <th>Store</th>\n",
       "      <th>Dept</th>\n",
       "      <th>Date</th>\n",
       "      <th>Weekly_Sales</th>\n",
       "      <th>IsHoliday</th>\n",
       "    </tr>\n",
       "  </thead>\n",
       "  <tbody>\n",
       "    <tr>\n",
       "      <th>0</th>\n",
       "      <td>1</td>\n",
       "      <td>1</td>\n",
       "      <td>2010-02-05</td>\n",
       "      <td>24924.50</td>\n",
       "      <td>False</td>\n",
       "    </tr>\n",
       "    <tr>\n",
       "      <th>1</th>\n",
       "      <td>1</td>\n",
       "      <td>1</td>\n",
       "      <td>2010-02-12</td>\n",
       "      <td>46039.49</td>\n",
       "      <td>True</td>\n",
       "    </tr>\n",
       "    <tr>\n",
       "      <th>2</th>\n",
       "      <td>1</td>\n",
       "      <td>1</td>\n",
       "      <td>2010-02-19</td>\n",
       "      <td>41595.55</td>\n",
       "      <td>False</td>\n",
       "    </tr>\n",
       "    <tr>\n",
       "      <th>3</th>\n",
       "      <td>1</td>\n",
       "      <td>1</td>\n",
       "      <td>2010-02-26</td>\n",
       "      <td>19403.54</td>\n",
       "      <td>False</td>\n",
       "    </tr>\n",
       "    <tr>\n",
       "      <th>4</th>\n",
       "      <td>1</td>\n",
       "      <td>1</td>\n",
       "      <td>2010-03-05</td>\n",
       "      <td>21827.90</td>\n",
       "      <td>False</td>\n",
       "    </tr>\n",
       "  </tbody>\n",
       "</table>\n",
       "</div>"
      ],
      "text/plain": [
       "   Store  Dept        Date  Weekly_Sales  IsHoliday\n",
       "0      1     1  2010-02-05      24924.50      False\n",
       "1      1     1  2010-02-12      46039.49       True\n",
       "2      1     1  2010-02-19      41595.55      False\n",
       "3      1     1  2010-02-26      19403.54      False\n",
       "4      1     1  2010-03-05      21827.90      False"
      ]
     },
     "execution_count": 86,
     "metadata": {},
     "output_type": "execute_result"
    }
   ],
   "source": [
    "print(\"O Shape dos valores é:\", dept.shape)\n",
    "dept.head()"
   ]
  },
  {
   "attachments": {},
   "cell_type": "markdown",
   "metadata": {
    "id": "MH8JNVmd-8JY"
   },
   "source": [
    "###  3.3) EDA e Data Cleaning e Wrangling\n"
   ]
  },
  {
   "cell_type": "code",
   "execution_count": 87,
   "metadata": {
    "id": "z79tDbPLBu37"
   },
   "outputs": [
    {
     "name": "stdout",
     "output_type": "stream",
     "text": [
      "O Shape dos valores é: (421570, 17)\n"
     ]
    },
    {
     "data": {
      "text/html": [
       "<div>\n",
       "<style scoped>\n",
       "    .dataframe tbody tr th:only-of-type {\n",
       "        vertical-align: middle;\n",
       "    }\n",
       "\n",
       "    .dataframe tbody tr th {\n",
       "        vertical-align: top;\n",
       "    }\n",
       "\n",
       "    .dataframe thead th {\n",
       "        text-align: right;\n",
       "    }\n",
       "</style>\n",
       "<table border=\"1\" class=\"dataframe\">\n",
       "  <thead>\n",
       "    <tr style=\"text-align: right;\">\n",
       "      <th></th>\n",
       "      <th>Store</th>\n",
       "      <th>Dept</th>\n",
       "      <th>Date</th>\n",
       "      <th>Weekly_Sales</th>\n",
       "      <th>IsHoliday_x</th>\n",
       "      <th>Temperature</th>\n",
       "      <th>Fuel_Price</th>\n",
       "      <th>MarkDown1</th>\n",
       "      <th>MarkDown2</th>\n",
       "      <th>MarkDown3</th>\n",
       "      <th>MarkDown4</th>\n",
       "      <th>MarkDown5</th>\n",
       "      <th>CPI</th>\n",
       "      <th>Unemployment</th>\n",
       "      <th>IsHoliday_y</th>\n",
       "      <th>Type</th>\n",
       "      <th>Size</th>\n",
       "    </tr>\n",
       "  </thead>\n",
       "  <tbody>\n",
       "    <tr>\n",
       "      <th>0</th>\n",
       "      <td>1</td>\n",
       "      <td>1</td>\n",
       "      <td>2010-02-05</td>\n",
       "      <td>24924.50</td>\n",
       "      <td>False</td>\n",
       "      <td>42.31</td>\n",
       "      <td>2.572</td>\n",
       "      <td>NaN</td>\n",
       "      <td>NaN</td>\n",
       "      <td>NaN</td>\n",
       "      <td>NaN</td>\n",
       "      <td>NaN</td>\n",
       "      <td>211.096358</td>\n",
       "      <td>8.106</td>\n",
       "      <td>False</td>\n",
       "      <td>A</td>\n",
       "      <td>151315</td>\n",
       "    </tr>\n",
       "    <tr>\n",
       "      <th>1</th>\n",
       "      <td>1</td>\n",
       "      <td>1</td>\n",
       "      <td>2010-02-12</td>\n",
       "      <td>46039.49</td>\n",
       "      <td>True</td>\n",
       "      <td>38.51</td>\n",
       "      <td>2.548</td>\n",
       "      <td>NaN</td>\n",
       "      <td>NaN</td>\n",
       "      <td>NaN</td>\n",
       "      <td>NaN</td>\n",
       "      <td>NaN</td>\n",
       "      <td>211.242170</td>\n",
       "      <td>8.106</td>\n",
       "      <td>True</td>\n",
       "      <td>A</td>\n",
       "      <td>151315</td>\n",
       "    </tr>\n",
       "    <tr>\n",
       "      <th>2</th>\n",
       "      <td>1</td>\n",
       "      <td>1</td>\n",
       "      <td>2010-02-19</td>\n",
       "      <td>41595.55</td>\n",
       "      <td>False</td>\n",
       "      <td>39.93</td>\n",
       "      <td>2.514</td>\n",
       "      <td>NaN</td>\n",
       "      <td>NaN</td>\n",
       "      <td>NaN</td>\n",
       "      <td>NaN</td>\n",
       "      <td>NaN</td>\n",
       "      <td>211.289143</td>\n",
       "      <td>8.106</td>\n",
       "      <td>False</td>\n",
       "      <td>A</td>\n",
       "      <td>151315</td>\n",
       "    </tr>\n",
       "    <tr>\n",
       "      <th>3</th>\n",
       "      <td>1</td>\n",
       "      <td>1</td>\n",
       "      <td>2010-02-26</td>\n",
       "      <td>19403.54</td>\n",
       "      <td>False</td>\n",
       "      <td>46.63</td>\n",
       "      <td>2.561</td>\n",
       "      <td>NaN</td>\n",
       "      <td>NaN</td>\n",
       "      <td>NaN</td>\n",
       "      <td>NaN</td>\n",
       "      <td>NaN</td>\n",
       "      <td>211.319643</td>\n",
       "      <td>8.106</td>\n",
       "      <td>False</td>\n",
       "      <td>A</td>\n",
       "      <td>151315</td>\n",
       "    </tr>\n",
       "    <tr>\n",
       "      <th>4</th>\n",
       "      <td>1</td>\n",
       "      <td>1</td>\n",
       "      <td>2010-03-05</td>\n",
       "      <td>21827.90</td>\n",
       "      <td>False</td>\n",
       "      <td>46.50</td>\n",
       "      <td>2.625</td>\n",
       "      <td>NaN</td>\n",
       "      <td>NaN</td>\n",
       "      <td>NaN</td>\n",
       "      <td>NaN</td>\n",
       "      <td>NaN</td>\n",
       "      <td>211.350143</td>\n",
       "      <td>8.106</td>\n",
       "      <td>False</td>\n",
       "      <td>A</td>\n",
       "      <td>151315</td>\n",
       "    </tr>\n",
       "  </tbody>\n",
       "</table>\n",
       "</div>"
      ],
      "text/plain": [
       "   Store  Dept        Date  Weekly_Sales  IsHoliday_x  Temperature  \\\n",
       "0      1     1  2010-02-05      24924.50        False        42.31   \n",
       "1      1     1  2010-02-12      46039.49         True        38.51   \n",
       "2      1     1  2010-02-19      41595.55        False        39.93   \n",
       "3      1     1  2010-02-26      19403.54        False        46.63   \n",
       "4      1     1  2010-03-05      21827.90        False        46.50   \n",
       "\n",
       "   Fuel_Price  MarkDown1  MarkDown2  MarkDown3  MarkDown4  MarkDown5  \\\n",
       "0       2.572        NaN        NaN        NaN        NaN        NaN   \n",
       "1       2.548        NaN        NaN        NaN        NaN        NaN   \n",
       "2       2.514        NaN        NaN        NaN        NaN        NaN   \n",
       "3       2.561        NaN        NaN        NaN        NaN        NaN   \n",
       "4       2.625        NaN        NaN        NaN        NaN        NaN   \n",
       "\n",
       "          CPI  Unemployment  IsHoliday_y Type    Size  \n",
       "0  211.096358         8.106        False    A  151315  \n",
       "1  211.242170         8.106         True    A  151315  \n",
       "2  211.289143         8.106        False    A  151315  \n",
       "3  211.319643         8.106        False    A  151315  \n",
       "4  211.350143         8.106        False    A  151315  "
      ]
     },
     "execution_count": 87,
     "metadata": {},
     "output_type": "execute_result"
    }
   ],
   "source": [
    "#União das tabelas pela Loja\n",
    "df = dept.merge(features, how = 'left', on = ['Store','Date'])\\\n",
    "         .merge(stores, how = 'left', on = 'Store')\n",
    "print(\"O Shape dos valores é:\", df.shape)\n",
    "df.head()"
   ]
  },
  {
   "cell_type": "code",
   "execution_count": 88,
   "metadata": {},
   "outputs": [
    {
     "name": "stdout",
     "output_type": "stream",
     "text": [
      "<class 'pandas.core.frame.DataFrame'>\n",
      "Int64Index: 421570 entries, 0 to 421569\n",
      "Data columns (total 17 columns):\n",
      " #   Column        Non-Null Count   Dtype  \n",
      "---  ------        --------------   -----  \n",
      " 0   Store         421570 non-null  int64  \n",
      " 1   Dept          421570 non-null  int64  \n",
      " 2   Date          421570 non-null  object \n",
      " 3   Weekly_Sales  421570 non-null  float64\n",
      " 4   IsHoliday_x   421570 non-null  bool   \n",
      " 5   Temperature   421570 non-null  float64\n",
      " 6   Fuel_Price    421570 non-null  float64\n",
      " 7   MarkDown1     150681 non-null  float64\n",
      " 8   MarkDown2     111248 non-null  float64\n",
      " 9   MarkDown3     137091 non-null  float64\n",
      " 10  MarkDown4     134967 non-null  float64\n",
      " 11  MarkDown5     151432 non-null  float64\n",
      " 12  CPI           421570 non-null  float64\n",
      " 13  Unemployment  421570 non-null  float64\n",
      " 14  IsHoliday_y   421570 non-null  bool   \n",
      " 15  Type          421570 non-null  object \n",
      " 16  Size          421570 non-null  int64  \n",
      "dtypes: bool(2), float64(10), int64(3), object(2)\n",
      "memory usage: 52.3+ MB\n"
     ]
    }
   ],
   "source": [
    "#Analise das informações dos tipos das váriáveis\n",
    "df.info()"
   ]
  },
  {
   "attachments": {},
   "cell_type": "markdown",
   "metadata": {},
   "source": [
    "#### 3.3.1) Tratamento dos tipos"
   ]
  },
  {
   "cell_type": "code",
   "execution_count": 89,
   "metadata": {},
   "outputs": [
    {
     "name": "stdout",
     "output_type": "stream",
     "text": [
      "<class 'pandas.core.frame.DataFrame'>\n",
      "Int64Index: 421570 entries, 0 to 421569\n",
      "Data columns (total 17 columns):\n",
      " #   Column        Non-Null Count   Dtype         \n",
      "---  ------        --------------   -----         \n",
      " 0   Store         421570 non-null  category      \n",
      " 1   Dept          421570 non-null  category      \n",
      " 2   Date          421570 non-null  datetime64[ns]\n",
      " 3   Weekly_Sales  421570 non-null  float64       \n",
      " 4   IsHoliday_x   421570 non-null  bool          \n",
      " 5   Temperature   421570 non-null  float64       \n",
      " 6   Fuel_Price    421570 non-null  float64       \n",
      " 7   MarkDown1     150681 non-null  float64       \n",
      " 8   MarkDown2     111248 non-null  float64       \n",
      " 9   MarkDown3     137091 non-null  float64       \n",
      " 10  MarkDown4     134967 non-null  float64       \n",
      " 11  MarkDown5     151432 non-null  float64       \n",
      " 12  CPI           421570 non-null  float64       \n",
      " 13  Unemployment  421570 non-null  float64       \n",
      " 14  IsHoliday_y   421570 non-null  bool          \n",
      " 15  Type          421570 non-null  object        \n",
      " 16  Size          421570 non-null  int64         \n",
      "dtypes: bool(2), category(2), datetime64[ns](1), float64(10), int64(1), object(1)\n",
      "memory usage: 46.6+ MB\n"
     ]
    }
   ],
   "source": [
    "#Alteração para os tipos corretos das variaveis\n",
    "    #Alteração para o tipo date\n",
    "df['Date'] = pd.to_datetime(df['Date'])\n",
    "\n",
    "    #Como Store é a Loja, correto enquadrar como category.\n",
    "df['Store'] = df['Store'].astype('category') \n",
    " \n",
    "    #Como Dept é o departamento da loja, correto enquadrar como category.\n",
    "df['Dept'] = df['Dept'].astype('category') \n",
    "df.info()"
   ]
  },
  {
   "cell_type": "code",
   "execution_count": 90,
   "metadata": {
    "id": "a8ob1n4VgdSb"
   },
   "outputs": [
    {
     "name": "stdout",
     "output_type": "stream",
     "text": [
      "Quantidade de linhas do Dataset 421570\n",
      "Retorna abaixo % de nulos do dataset\n"
     ]
    },
    {
     "data": {
      "text/plain": [
       "Store            0.000000\n",
       "Dept             0.000000\n",
       "Date             0.000000\n",
       "Weekly_Sales     0.000000\n",
       "IsHoliday_x      0.000000\n",
       "Temperature      0.000000\n",
       "Fuel_Price       0.000000\n",
       "MarkDown1       64.257181\n",
       "MarkDown2       73.611025\n",
       "MarkDown3       67.480845\n",
       "MarkDown4       67.984676\n",
       "MarkDown5       64.079038\n",
       "CPI              0.000000\n",
       "Unemployment     0.000000\n",
       "IsHoliday_y      0.000000\n",
       "Type             0.000000\n",
       "Size             0.000000\n",
       "dtype: float64"
      ]
     },
     "execution_count": 90,
     "metadata": {},
     "output_type": "execute_result"
    }
   ],
   "source": [
    "#Avaliação da quantidade de nulos\n",
    "print('Quantidade de linhas do Dataset', df.shape[0])\n",
    "\n",
    "#Soma os nulos, e aplica uma divisão pelo total de linhas, multiplicados por 100.\n",
    "print(\"Retorna abaixo % de nulos do dataset\")\n",
    "df.isnull().sum()/df.shape[0]*100\n"
   ]
  },
  {
   "cell_type": "code",
   "execution_count": 91,
   "metadata": {},
   "outputs": [
    {
     "data": {
      "text/plain": [
       "<AxesSubplot: >"
      ]
     },
     "execution_count": 91,
     "metadata": {},
     "output_type": "execute_result"
    },
    {
     "data": {
      "image/png": "[encoded data removed]",
      "text/plain": [
       "<Figure size 640x480 with 2 Axes>"
      ]
     },
     "metadata": {},
     "output_type": "display_data"
    }
   ],
   "source": [
    "#Análise da Correlação das váriaveis\n",
    "sns.heatmap(df.corr(method=\"pearson\"))"
   ]
  },
  {
   "attachments": {},
   "cell_type": "markdown",
   "metadata": {},
   "source": [
    "#### 3.3.2) Tratamento dos Nulos"
   ]
  },
  {
   "cell_type": "code",
   "execution_count": 92,
   "metadata": {},
   "outputs": [
    {
     "name": "stdout",
     "output_type": "stream",
     "text": [
      "Retorna abaixo % de nulos do dataset\n"
     ]
    },
    {
     "data": {
      "text/plain": [
       "Store            0.000000\n",
       "Dept             0.000000\n",
       "Date             0.000000\n",
       "Weekly_Sales     0.000000\n",
       "IsHoliday_x      0.000000\n",
       "Temperature      0.000000\n",
       "Fuel_Price       0.000000\n",
       "MarkDown1        0.000000\n",
       "MarkDown2        0.000000\n",
       "MarkDown3        0.000000\n",
       "MarkDown4       67.984676\n",
       "MarkDown5        0.000000\n",
       "CPI              0.000000\n",
       "Unemployment     0.000000\n",
       "IsHoliday_y      0.000000\n",
       "Type             0.000000\n",
       "Size             0.000000\n",
       "dtype: float64"
      ]
     },
     "execution_count": 92,
     "metadata": {},
     "output_type": "execute_result"
    }
   ],
   "source": [
    "#A variavel MarkDown1 à 5 é referente a promoção, é coerente ter muitos nulos. \n",
    "    #Os mesmos serão substituidos por 0(zero).\n",
    "df.MarkDown1.fillna(value=0, inplace=True)\n",
    "df.MarkDown2.fillna(value=0, inplace=True)\n",
    "df.MarkDown3.fillna(value=0, inplace=True)\n",
    "df.MarkDown5.fillna(value=0, inplace=True)\n",
    "\n",
    "#Verificação da retirada dos Nulos\n",
    "print(\"Retorna abaixo % de nulos do dataset\")\n",
    "df.isnull().sum()/df.shape[0]*100"
   ]
  },
  {
   "attachments": {},
   "cell_type": "markdown",
   "metadata": {},
   "source": [
    "#### 3.3.3) Exclusão de Features desnecessarias"
   ]
  },
  {
   "cell_type": "code",
   "execution_count": 93,
   "metadata": {},
   "outputs": [],
   "source": [
    "#Através do gráfico do item 3.3.2 é possivel perceber que a uma Correlação positiva muito forte \n",
    "# entre MarkDown1 e MarkDown4, onde para evitarmos Overfiting, excluiremos MarkDown4\n",
    "df.drop(columns='MarkDown4', axis=1, inplace=True)\n",
    "\n",
    "\n",
    "#A váriável Holiday está em Duplicidade, por que continha em duas tabelas antes do Merge\n",
    "df.drop(columns=\"IsHoliday_y\", axis=1, inplace=True)"
   ]
  },
  {
   "attachments": {},
   "cell_type": "markdown",
   "metadata": {},
   "source": [
    "#### 3.3.4) Tratamento de Duplicados"
   ]
  },
  {
   "cell_type": "code",
   "execution_count": 94,
   "metadata": {},
   "outputs": [
    {
     "name": "stdout",
     "output_type": "stream",
     "text": [
      "Valores antes da exclusão dos duplicados 421570\n",
      "Valores após da exclusão dos duplicados 421570\n"
     ]
    }
   ],
   "source": [
    "#Verificação de valores duplicados\n",
    "print(\"Valores antes da exclusão dos duplicados\", df.shape[0])\n",
    "df = df.drop_duplicates(keep='last')\n",
    "print(\"Valores após da exclusão dos duplicados\", df.shape[0])"
   ]
  },
  {
   "attachments": {},
   "cell_type": "markdown",
   "metadata": {},
   "source": [
    "Não obtivemos valores duplicados no DataSet"
   ]
  },
  {
   "attachments": {},
   "cell_type": "markdown",
   "metadata": {},
   "source": [
    "#### 3.3.5) Seleção do Período fechado"
   ]
  },
  {
   "cell_type": "code",
   "execution_count": 95,
   "metadata": {},
   "outputs": [
    {
     "name": "stdout",
     "output_type": "stream",
     "text": [
      "Data Mínima, 2010-02-05 00:00:00\n",
      "Data Máxima, 2012-10-26 00:00:00\n"
     ]
    }
   ],
   "source": [
    "print('Data Mínima,', df.Date.min())\n",
    "print('Data Máxima,', df.Date.max())"
   ]
  },
  {
   "attachments": {},
   "cell_type": "markdown",
   "metadata": {},
   "source": [
    "Como temos uma quantidade consideravel de informações, e durante o periodo podemos ter mais e menos feriados, selecionei o periodo dos ultimos 12 meses fechados. De 2011-10-01 á 2012-09-30"
   ]
  },
  {
   "cell_type": "code",
   "execution_count": 96,
   "metadata": {},
   "outputs": [
    {
     "name": "stdout",
     "output_type": "stream",
     "text": [
      "O Shape : (154331, 15)\n"
     ]
    }
   ],
   "source": [
    "#Como o Query não aceita a função >= coloquei um dia antes e um após para seleção\n",
    "dfperiod = df.query('Date > \"2011-09-30\"  &  Date < \"2012-10-01\"')\n",
    "dfperiod = pd.DataFrame(dfperiod).reset_index().drop(columns='index')\n",
    "print('O Shape :', dfperiod.shape)"
   ]
  },
  {
   "cell_type": "code",
   "execution_count": 97,
   "metadata": {},
   "outputs": [
    {
     "name": "stdout",
     "output_type": "stream",
     "text": [
      "Data Mínima, 2011-10-07 00:00:00\n",
      "Data Máxima, 2012-09-28 00:00:00\n"
     ]
    },
    {
     "data": {
      "text/html": [
       "<div>\n",
       "<style scoped>\n",
       "    .dataframe tbody tr th:only-of-type {\n",
       "        vertical-align: middle;\n",
       "    }\n",
       "\n",
       "    .dataframe tbody tr th {\n",
       "        vertical-align: top;\n",
       "    }\n",
       "\n",
       "    .dataframe thead th {\n",
       "        text-align: right;\n",
       "    }\n",
       "</style>\n",
       "<table border=\"1\" class=\"dataframe\">\n",
       "  <thead>\n",
       "    <tr style=\"text-align: right;\">\n",
       "      <th></th>\n",
       "      <th>Store</th>\n",
       "      <th>Dept</th>\n",
       "      <th>Date</th>\n",
       "      <th>Weekly_Sales</th>\n",
       "      <th>IsHoliday_x</th>\n",
       "      <th>Temperature</th>\n",
       "      <th>Fuel_Price</th>\n",
       "      <th>MarkDown1</th>\n",
       "      <th>MarkDown2</th>\n",
       "      <th>MarkDown3</th>\n",
       "      <th>MarkDown5</th>\n",
       "      <th>CPI</th>\n",
       "      <th>Unemployment</th>\n",
       "      <th>Type</th>\n",
       "      <th>Size</th>\n",
       "    </tr>\n",
       "  </thead>\n",
       "  <tbody>\n",
       "    <tr>\n",
       "      <th>154326</th>\n",
       "      <td>45</td>\n",
       "      <td>98</td>\n",
       "      <td>2012-08-31</td>\n",
       "      <td>346.04</td>\n",
       "      <td>False</td>\n",
       "      <td>75.09</td>\n",
       "      <td>3.867</td>\n",
       "      <td>23641.30</td>\n",
       "      <td>6.00</td>\n",
       "      <td>92.93</td>\n",
       "      <td>3992.13</td>\n",
       "      <td>191.461281</td>\n",
       "      <td>8.684</td>\n",
       "      <td>B</td>\n",
       "      <td>118221</td>\n",
       "    </tr>\n",
       "    <tr>\n",
       "      <th>154327</th>\n",
       "      <td>45</td>\n",
       "      <td>98</td>\n",
       "      <td>2012-09-07</td>\n",
       "      <td>352.44</td>\n",
       "      <td>True</td>\n",
       "      <td>75.70</td>\n",
       "      <td>3.911</td>\n",
       "      <td>11024.45</td>\n",
       "      <td>12.80</td>\n",
       "      <td>52.63</td>\n",
       "      <td>2055.70</td>\n",
       "      <td>191.577676</td>\n",
       "      <td>8.684</td>\n",
       "      <td>B</td>\n",
       "      <td>118221</td>\n",
       "    </tr>\n",
       "    <tr>\n",
       "      <th>154328</th>\n",
       "      <td>45</td>\n",
       "      <td>98</td>\n",
       "      <td>2012-09-14</td>\n",
       "      <td>605.96</td>\n",
       "      <td>False</td>\n",
       "      <td>67.87</td>\n",
       "      <td>3.948</td>\n",
       "      <td>11407.95</td>\n",
       "      <td>0.00</td>\n",
       "      <td>4.30</td>\n",
       "      <td>5268.92</td>\n",
       "      <td>191.699850</td>\n",
       "      <td>8.684</td>\n",
       "      <td>B</td>\n",
       "      <td>118221</td>\n",
       "    </tr>\n",
       "    <tr>\n",
       "      <th>154329</th>\n",
       "      <td>45</td>\n",
       "      <td>98</td>\n",
       "      <td>2012-09-21</td>\n",
       "      <td>467.30</td>\n",
       "      <td>False</td>\n",
       "      <td>65.32</td>\n",
       "      <td>4.038</td>\n",
       "      <td>8452.20</td>\n",
       "      <td>92.28</td>\n",
       "      <td>63.24</td>\n",
       "      <td>8670.40</td>\n",
       "      <td>191.856704</td>\n",
       "      <td>8.684</td>\n",
       "      <td>B</td>\n",
       "      <td>118221</td>\n",
       "    </tr>\n",
       "    <tr>\n",
       "      <th>154330</th>\n",
       "      <td>45</td>\n",
       "      <td>98</td>\n",
       "      <td>2012-09-28</td>\n",
       "      <td>508.37</td>\n",
       "      <td>False</td>\n",
       "      <td>64.88</td>\n",
       "      <td>3.997</td>\n",
       "      <td>4556.61</td>\n",
       "      <td>20.64</td>\n",
       "      <td>1.50</td>\n",
       "      <td>3288.25</td>\n",
       "      <td>192.013558</td>\n",
       "      <td>8.684</td>\n",
       "      <td>B</td>\n",
       "      <td>118221</td>\n",
       "    </tr>\n",
       "  </tbody>\n",
       "</table>\n",
       "</div>"
      ],
      "text/plain": [
       "       Store Dept       Date  Weekly_Sales  IsHoliday_x  Temperature  \\\n",
       "154326    45   98 2012-08-31        346.04        False        75.09   \n",
       "154327    45   98 2012-09-07        352.44         True        75.70   \n",
       "154328    45   98 2012-09-14        605.96        False        67.87   \n",
       "154329    45   98 2012-09-21        467.30        False        65.32   \n",
       "154330    45   98 2012-09-28        508.37        False        64.88   \n",
       "\n",
       "        Fuel_Price  MarkDown1  MarkDown2  MarkDown3  MarkDown5         CPI  \\\n",
       "154326       3.867   23641.30       6.00      92.93    3992.13  191.461281   \n",
       "154327       3.911   11024.45      12.80      52.63    2055.70  191.577676   \n",
       "154328       3.948   11407.95       0.00       4.30    5268.92  191.699850   \n",
       "154329       4.038    8452.20      92.28      63.24    8670.40  191.856704   \n",
       "154330       3.997    4556.61      20.64       1.50    3288.25  192.013558   \n",
       "\n",
       "        Unemployment Type    Size  \n",
       "154326         8.684    B  118221  \n",
       "154327         8.684    B  118221  \n",
       "154328         8.684    B  118221  \n",
       "154329         8.684    B  118221  \n",
       "154330         8.684    B  118221  "
      ]
     },
     "execution_count": 97,
     "metadata": {},
     "output_type": "execute_result"
    }
   ],
   "source": [
    "#Conferindo a Query e visualizando a nova tabela\n",
    "print('Data Mínima,', dfperiod.Date.min())\n",
    "print('Data Máxima,', dfperiod.Date.max())\n",
    "dfperiod.tail()"
   ]
  },
  {
   "attachments": {},
   "cell_type": "markdown",
   "metadata": {},
   "source": [
    "#### 3.3.6) Tratamento de Outliers"
   ]
  },
  {
   "cell_type": "code",
   "execution_count": 98,
   "metadata": {},
   "outputs": [
    {
     "data": {
      "text/html": [
       "<div>\n",
       "<style scoped>\n",
       "    .dataframe tbody tr th:only-of-type {\n",
       "        vertical-align: middle;\n",
       "    }\n",
       "\n",
       "    .dataframe tbody tr th {\n",
       "        vertical-align: top;\n",
       "    }\n",
       "\n",
       "    .dataframe thead th {\n",
       "        text-align: right;\n",
       "    }\n",
       "</style>\n",
       "<table border=\"1\" class=\"dataframe\">\n",
       "  <thead>\n",
       "    <tr style=\"text-align: right;\">\n",
       "      <th></th>\n",
       "      <th>Weekly_Sales</th>\n",
       "      <th>Temperature</th>\n",
       "      <th>Fuel_Price</th>\n",
       "      <th>MarkDown1</th>\n",
       "      <th>MarkDown2</th>\n",
       "      <th>MarkDown3</th>\n",
       "      <th>MarkDown5</th>\n",
       "      <th>CPI</th>\n",
       "      <th>Unemployment</th>\n",
       "      <th>Size</th>\n",
       "    </tr>\n",
       "  </thead>\n",
       "  <tbody>\n",
       "    <tr>\n",
       "      <th>count</th>\n",
       "      <td>154331.000000</td>\n",
       "      <td>154331.000000</td>\n",
       "      <td>154331.000000</td>\n",
       "      <td>154331.000000</td>\n",
       "      <td>154331.000000</td>\n",
       "      <td>154331.000000</td>\n",
       "      <td>154331.000000</td>\n",
       "      <td>154331.000000</td>\n",
       "      <td>154331.000000</td>\n",
       "      <td>154331.000000</td>\n",
       "    </tr>\n",
       "    <tr>\n",
       "      <th>mean</th>\n",
       "      <td>16181.278677</td>\n",
       "      <td>59.532779</td>\n",
       "      <td>3.630823</td>\n",
       "      <td>6808.627640</td>\n",
       "      <td>2402.416006</td>\n",
       "      <td>1276.404115</td>\n",
       "      <td>4264.093468</td>\n",
       "      <td>174.466501</td>\n",
       "      <td>7.470799</td>\n",
       "      <td>136390.997564</td>\n",
       "    </tr>\n",
       "    <tr>\n",
       "      <th>std</th>\n",
       "      <td>23240.220944</td>\n",
       "      <td>17.621532</td>\n",
       "      <td>0.278647</td>\n",
       "      <td>8389.919216</td>\n",
       "      <td>8183.055587</td>\n",
       "      <td>9081.302129</td>\n",
       "      <td>6006.460415</td>\n",
       "      <td>40.183156</td>\n",
       "      <td>1.737576</td>\n",
       "      <td>61092.156808</td>\n",
       "    </tr>\n",
       "    <tr>\n",
       "      <th>min</th>\n",
       "      <td>-1699.000000</td>\n",
       "      <td>7.460000</td>\n",
       "      <td>3.031000</td>\n",
       "      <td>0.000000</td>\n",
       "      <td>-265.760000</td>\n",
       "      <td>-29.100000</td>\n",
       "      <td>0.000000</td>\n",
       "      <td>129.693800</td>\n",
       "      <td>4.077000</td>\n",
       "      <td>34875.000000</td>\n",
       "    </tr>\n",
       "    <tr>\n",
       "      <th>25%</th>\n",
       "      <td>2008.290000</td>\n",
       "      <td>46.570000</td>\n",
       "      <td>3.417000</td>\n",
       "      <td>1064.810000</td>\n",
       "      <td>0.000000</td>\n",
       "      <td>1.190000</td>\n",
       "      <td>1508.560000</td>\n",
       "      <td>136.478800</td>\n",
       "      <td>6.432000</td>\n",
       "      <td>93638.000000</td>\n",
       "    </tr>\n",
       "    <tr>\n",
       "      <th>50%</th>\n",
       "      <td>7525.310000</td>\n",
       "      <td>60.320000</td>\n",
       "      <td>3.633000</td>\n",
       "      <td>4923.890000</td>\n",
       "      <td>58.480000</td>\n",
       "      <td>13.100000</td>\n",
       "      <td>3029.000000</td>\n",
       "      <td>188.350400</td>\n",
       "      <td>7.280000</td>\n",
       "      <td>140167.000000</td>\n",
       "    </tr>\n",
       "    <tr>\n",
       "      <th>75%</th>\n",
       "      <td>20423.315000</td>\n",
       "      <td>73.520000</td>\n",
       "      <td>3.827000</td>\n",
       "      <td>8920.010000</td>\n",
       "      <td>599.500000</td>\n",
       "      <td>83.070000</td>\n",
       "      <td>5335.650000</td>\n",
       "      <td>219.179453</td>\n",
       "      <td>8.256000</td>\n",
       "      <td>202505.000000</td>\n",
       "    </tr>\n",
       "    <tr>\n",
       "      <th>max</th>\n",
       "      <td>649770.180000</td>\n",
       "      <td>100.070000</td>\n",
       "      <td>4.308000</td>\n",
       "      <td>88646.760000</td>\n",
       "      <td>104519.540000</td>\n",
       "      <td>141630.610000</td>\n",
       "      <td>108519.280000</td>\n",
       "      <td>226.763073</td>\n",
       "      <td>12.890000</td>\n",
       "      <td>219622.000000</td>\n",
       "    </tr>\n",
       "  </tbody>\n",
       "</table>\n",
       "</div>"
      ],
      "text/plain": [
       "        Weekly_Sales    Temperature     Fuel_Price      MarkDown1  \\\n",
       "count  154331.000000  154331.000000  154331.000000  154331.000000   \n",
       "mean    16181.278677      59.532779       3.630823    6808.627640   \n",
       "std     23240.220944      17.621532       0.278647    8389.919216   \n",
       "min     -1699.000000       7.460000       3.031000       0.000000   \n",
       "25%      2008.290000      46.570000       3.417000    1064.810000   \n",
       "50%      7525.310000      60.320000       3.633000    4923.890000   \n",
       "75%     20423.315000      73.520000       3.827000    8920.010000   \n",
       "max    649770.180000     100.070000       4.308000   88646.760000   \n",
       "\n",
       "           MarkDown2      MarkDown3      MarkDown5            CPI  \\\n",
       "count  154331.000000  154331.000000  154331.000000  154331.000000   \n",
       "mean     2402.416006    1276.404115    4264.093468     174.466501   \n",
       "std      8183.055587    9081.302129    6006.460415      40.183156   \n",
       "min      -265.760000     -29.100000       0.000000     129.693800   \n",
       "25%         0.000000       1.190000    1508.560000     136.478800   \n",
       "50%        58.480000      13.100000    3029.000000     188.350400   \n",
       "75%       599.500000      83.070000    5335.650000     219.179453   \n",
       "max    104519.540000  141630.610000  108519.280000     226.763073   \n",
       "\n",
       "        Unemployment           Size  \n",
       "count  154331.000000  154331.000000  \n",
       "mean        7.470799  136390.997564  \n",
       "std         1.737576   61092.156808  \n",
       "min         4.077000   34875.000000  \n",
       "25%         6.432000   93638.000000  \n",
       "50%         7.280000  140167.000000  \n",
       "75%         8.256000  202505.000000  \n",
       "max        12.890000  219622.000000  "
      ]
     },
     "execution_count": 98,
     "metadata": {},
     "output_type": "execute_result"
    }
   ],
   "source": [
    "#Análise Numérica, através do Describe para verificação do comportamento das variáveis\n",
    "dfperiod.describe()"
   ]
  },
  {
   "cell_type": "code",
   "execution_count": 99,
   "metadata": {},
   "outputs": [
    {
     "data": {
      "image/png": "[encoded data removed]",
      "text/plain": [
       "<Figure size 3000x600 with 1 Axes>"
      ]
     },
     "metadata": {},
     "output_type": "display_data"
    }
   ],
   "source": [
    "# Análise exploratória, através do Boxplot, para verificação de presença de Outliers\n",
    "plt.figure(figsize=(30,6))\n",
    "plt.title(\"Boxplot das 11 variáveis numéricas\", loc='left')\n",
    "ax = sns.boxplot(data = dfperiod)\n",
    "plt.show()"
   ]
  },
  {
   "cell_type": "code",
   "execution_count": 118,
   "metadata": {},
   "outputs": [
    {
     "data": {
      "image/png": "[encoded data removed]",
      "text/plain": [
       "<Figure size 2000x1400 with 12 Axes>"
      ]
     },
     "metadata": {},
     "output_type": "display_data"
    }
   ],
   "source": [
    "##Nome das colunas - Pode somente numericas\n",
    "dfNumberCol = list(dfperiod.select_dtypes(include='number').columns)\n",
    "\n",
    "##Tamanho subplot\n",
    "ncols = 3\n",
    "nrows = int(np.ceil(len(dfNumberCol)/(1.0 * ncols)))\n",
    "\n",
    "##Plot\n",
    "fig, axes = plt.subplots(nrows=nrows, ncols=ncols, figsize=(20,14))\n",
    "\n",
    "counter = 0 \n",
    "\n",
    "for i in range(nrows):\n",
    "  for j in range(ncols):\n",
    "\n",
    "    ax = axes[i][j]\n",
    "\n",
    "    # Plotar somente quando houver dados\n",
    "    if counter < len(dfNumberCol):\n",
    "\n",
    "      ax.hist(dfperiod.select_dtypes(include='number')[dfNumberCol[counter]], bins=20)\n",
    "      ax.set_xlabel(dfNumberCol[counter])\n",
    "      ax.set_ylabel('Frequência')\n",
    "\n",
    "    else:\n",
    "      ax.set_axis_off()\n",
    "\n",
    "      counter += 1\n",
    "\n",
    "plt.show()"
   ]
  },
  {
   "attachments": {},
   "cell_type": "markdown",
   "metadata": {},
   "source": [
    "Como pode ser observado tanto pelo box plot quanto pelo gráfico de barras, as colunas numéricas, possui outliers e possuem suas distribuições conforme:\n",
    "\n",
    "*Week_sales, possui uma Amplitude alta de 0 a 700 mil, enquanto Full Price possui amplitude de 2,50 a 4,50. O que demonstra que a depender do método de Machine Learning, é necessario um normalização das váriaveis numéricas. \n",
    "\n",
    "*Week_sales, MarkDown1, MarkDown2, MarkDown3, MarkDown5 =  Cauda Longa a Direita\n",
    "\n",
    "*Temperature, Unemplyment, Fuel_price= Se aproximam de uma Distribuição Gaussiana (normal)\n",
    "\n",
    "*Size= Possui seus valores distribuidos sem uniformidade, com pico"
   ]
  },
  {
   "attachments": {},
   "cell_type": "markdown",
   "metadata": {},
   "source": [
    "##### 3.3.6.1) Função para Outliers"
   ]
  },
  {
   "cell_type": "code",
   "execution_count": 101,
   "metadata": {},
   "outputs": [],
   "source": [
    "\"\"\" #Função de Remoçãoo de Outliers. Através do fator, podemos alterar a margem para corte de outliers\n",
    "def removeOutlier(values):\n",
    "    fator = 1.5\n",
    "    Q1, Q3 = np.percentile(values, [25, 75])\n",
    "    IQR = Q3 - Q1\n",
    "    lowpass = Q1 - (IQR * fator)\n",
    "    highpass = Q3 + (IQR * fator)\n",
    "    for v in values:\n",
    "            if v > lowpass and v < highpass:\n",
    "                return v \"\"\""
   ]
  },
  {
   "cell_type": "code",
   "execution_count": null,
   "metadata": {},
   "outputs": [],
   "source": [
    "#Seleciono todas as váriaveis numéricas do DataSet para o tratamento\n",
    "dfNumber = dfperiod.select_dtypes(include='number')"
   ]
  },
  {
   "cell_type": "code",
   "execution_count": 109,
   "metadata": {},
   "outputs": [],
   "source": [
    "# Estabelencendo a função que remove os outliers por Coluna\n",
    "\n",
    "def RemoverOutlier(ColunaRemocao):\n",
    " #Detection\n",
    "    # IQR\n",
    "    Q1 = np.percentile(ColunaRemocao, 25,\n",
    "                    interpolation = 'midpoint')\n",
    "    \n",
    "    Q3 = np.percentile(ColunaRemocao, 75,\n",
    "                    interpolation = 'midpoint')\n",
    "    IQR = Q3 - Q1\n",
    "\n",
    "    print(\"Old Shape: \", dfNumber.shape)\n",
    "    \n",
    "    # Upper bound\n",
    "    upper = np.where(ColunaRemocao >= (Q3+1.5*IQR))\n",
    "    # Lower bound\n",
    "    lower = np.where(ColunaRemocao <= (Q1-1.5*IQR))\n",
    "    \n",
    "    ''' Removendo os Outliers '''\n",
    "    dfNumber.drop(upper[0], inplace = True)\n",
    "    dfNumber.drop(lower[0], inplace = True)\n",
    "    \n",
    "    print(\"New Shape: \", dfNumber.shape)"
   ]
  },
  {
   "cell_type": "code",
   "execution_count": 120,
   "metadata": {},
   "outputs": [
    {
     "data": {
      "text/plain": [
       "['Weekly_Sales',\n",
       " 'Temperature',\n",
       " 'Fuel_Price',\n",
       " 'MarkDown1',\n",
       " 'MarkDown2',\n",
       " 'MarkDown3',\n",
       " 'MarkDown5',\n",
       " 'CPI',\n",
       " 'Unemployment',\n",
       " 'Size']"
      ]
     },
     "execution_count": 120,
     "metadata": {},
     "output_type": "execute_result"
    }
   ],
   "source": [
    "dfNumberCol"
   ]
  },
  {
   "cell_type": "code",
   "execution_count": 122,
   "metadata": {},
   "outputs": [
    {
     "data": {
      "text/plain": [
       "count    141240.000000\n",
       "mean          3.631847\n",
       "std           0.278521\n",
       "min           3.031000\n",
       "25%           3.422000\n",
       "50%           3.633000\n",
       "75%           3.827000\n",
       "max           4.308000\n",
       "Name: Fuel_Price, dtype: float64"
      ]
     },
     "execution_count": 122,
     "metadata": {},
     "output_type": "execute_result"
    }
   ],
   "source": [
    "dfNumber[\"Fuel_Price\"].describe()"
   ]
  },
  {
   "cell_type": "code",
   "execution_count": 124,
   "metadata": {},
   "outputs": [
    {
     "name": "stdout",
     "output_type": "stream",
     "text": [
      "Old Shape:  (141240, 10)\n"
     ]
    },
    {
     "name": "stderr",
     "output_type": "stream",
     "text": [
      "C:\\Users\\Usuario\\AppData\\Local\\Temp\\ipykernel_7292\\1130867991.py:4: DeprecationWarning: the `interpolation=` argument to percentile was renamed to `method=`, which has additional options.\n",
      "Users of the modes 'nearest', 'lower', 'higher', or 'midpoint' are encouraged to review the method they used. (Deprecated NumPy 1.22)\n",
      "  Q1 = np.percentile(ColunaRemocao, 25,\n",
      "C:\\Users\\Usuario\\AppData\\Local\\Temp\\ipykernel_7292\\1130867991.py:7: DeprecationWarning: the `interpolation=` argument to percentile was renamed to `method=`, which has additional options.\n",
      "Users of the modes 'nearest', 'lower', 'higher', or 'midpoint' are encouraged to review the method they used. (Deprecated NumPy 1.22)\n",
      "  Q3 = np.percentile(ColunaRemocao, 75,\n"
     ]
    },
    {
     "ename": "KeyError",
     "evalue": "'[52, 61, 62, 63, 69, 70, 73, 74, 78, 82, 87, 151, 3039, 3239, 3244, 3251, 3326, 3331, 3332, 3333, 3334, 3335, 3336, 3337, 3338, 3339, 3340, 3341, 3342, 3343, 3344, 3345, 3346, 3347, 3348, 3349, 3350, 3351, 3352, 3353, 3354, 3355, 3356, 3357, 3358, 3359, 3360, 3361, 3362, 3363, 3364, 3365, 3366, 3367, 3368, 3369, 3370, 3371, 3372, 3373, 3374, 3377, 3379, 3380, 3383, 3389, 3476, 3490, 3494, 3495, 3496, 3497, 3498, 3500, 3501, 3512, 3513, 3523, 3535, 3536, 3537, 3538, 3540, 3543, 3544, 3545, 3573, 3733, 3739, 3740, 3748, 3755, 3756, 10849, 10945, 12341, 14261, 14262, 14263, 16334, 16335, 16336, 16338, 16339, 16340, 16341, 16342, 16343, 16344, 18651, 18652, 18653, 18654, 19691, 19692, 19693, 19694, 19695, 21323, 21324, 21325, 29036, 32138, 32316, 32372, 32373, 32374, 32375, 32376, 32390, 32391, 32420, 32425, 32426, 32427, 32434, 32442, 32446, 32451, 32453, 32459, 32677, 32678, 32679, 32680, 35735, 35761, 35762, 35763, 35764, 35765, 35766, 35767, 35768, 35769, 35770, 35771, 35772, 35773, 35774, 35775, 35776, 35777, 35778, 35779, 35780, 35781, 35782, 35783, 35784, 36028, 36029, 36030, 38908, 38910, 38912, 38913, 38914, 38917, 38918, 38919, 38921, 38922, 38923, 38928, 38930, 38931, 38987, 39012, 39013, 39017, 39018, 39024, 39026, 39028, 39029, 39033, 39050, 39055, 39059, 39135, 41304, 41309, 41310, 42072, 42073, 42074, 42079, 42080, 42081, 42092, 42094, 42095, 42097, 42101, 42103, 42104, 42107, 42109, 42110, 43316, 43317, 43606, 43628, 44875, 47436, 47438, 47439, 47440, 47445, 47446, 48688, 50166, 50167, 50168, 50170, 50171, 50175, 50176, 50188, 50189, 50190, 55844, 55845, 55847, 55851, 55852, 55855, 55856, 55857, 55860, 55861, 55862, 55863, 55864, 55865, 55866, 55867, 55868, 55869, 55870, 55872, 55881, 55885, 60342, 60343, 63574, 64856, 64864, 64871, 64872, 64927, 65609, 65891, 66662, 66663, 66667, 66671, 66672, 66673, 66677, 68117, 68118, 68127, 68135, 68136, 68139, 68140, 68141, 68142, 68143, 68144, 68145, 68146, 68147, 68148, 68149, 68150, 68151, 68152, 68153, 68154, 68155, 68156, 68157, 68158, 68159, 68160, 68161, 68162, 68163, 68164, 68295, 68296, 68321, 68322, 68323, 68560, 68585, 68592, 68600, 68602, 68604, 68612, 68613, 68617, 68620, 68622, 68623, 68625, 68767, 68852, 68853, 68854, 68856, 68871, 68878, 68879, 68880, 68881, 68882, 68883, 69291, 69293, 70387, 71757, 71764, 71765, 71766, 71767, 71770, 71783, 71784, 71792, 71798, 71800, 71801, 71802, 71803, 71806, 71807, 71811, 71816, 71820, 71821, 71824, 71826, 71827, 71828, 71829, 71830, 71831, 71832, 71833, 71834, 71835, 71836, 71837, 71839, 71840, 71841, 71854, 71855, 71856, 71867, 71889, 71895, 71919, 71942, 71944, 71945, 72009, 72011, 72030, 72035, 72042, 72043, 72044, 72048, 72052, 72053, 72054, 72055, 72056, 72057, 72058, 72064, 72065, 72066, 72090, 72100, 72101, 72102, 72473, 75837, 75840, 75842, 76615, 76616, 76617, 76618, 77650, 77651, 78423, 79986, 79987, 79999, 80001, 80002, 80003, 86766, 97226, 97227, 97228, 97229, 97230, 97231, 97232, 97233, 97234, 97235, 97236, 97237, 97239, 97240, 97241, 97242, 97243, 97244, 97245, 97246, 97247, 97248, 97249, 97250, 97251, 97252, 97253, 97254, 97255, 97256, 97257, 97258, 97259, 97260, 97261, 97262, 97263, 97264, 97265, 97266, 97267, 97268, 97269, 97270, 97271, 97272, 97273, 97274, 97275, 97276, 97708, 100465, 100896, 110693, 113009, 113014, 120380, 120385, 120602, 121016, 121017, 127901, 129026, 129027, 129028, 129029, 129030, 129031, 129032, 132716, 132717, 132718, 132719, 132721, 132722, 132723, 132725, 132728, 132729, 132730, 132731, 132732, 132733, 132734, 132736, 132737, 132738, 132739, 132740, 132741, 132742, 132744, 132745, 132747, 132748, 132749, 132750, 132752, 132753, 132755, 132756, 132760, 132761, 132762, 132842, 132843, 132849, 132850, 140439] not found in axis'",
     "output_type": "error",
     "traceback": [
      "\u001b[1;31m---------------------------------------------------------------------------\u001b[0m",
      "\u001b[1;31mKeyError\u001b[0m                                  Traceback (most recent call last)",
      "Cell \u001b[1;32mIn [124], line 3\u001b[0m\n\u001b[0;32m      1\u001b[0m dfNumberCol \u001b[39m=\u001b[39m \u001b[39mlist\u001b[39m(dfNumber\u001b[39m.\u001b[39mcolumns)\n\u001b[0;32m      2\u001b[0m \u001b[39mfor\u001b[39;00m coluna \u001b[39min\u001b[39;00m dfNumberCol:\n\u001b[1;32m----> 3\u001b[0m     dfNumber[coluna] \u001b[39m=\u001b[39m RemoverOutlier(dfNumber[coluna])\n",
      "Cell \u001b[1;32mIn [109], line 19\u001b[0m, in \u001b[0;36mRemoverOutlier\u001b[1;34m(ColunaRemocao)\u001b[0m\n\u001b[0;32m     16\u001b[0m lower \u001b[39m=\u001b[39m np\u001b[39m.\u001b[39mwhere(ColunaRemocao \u001b[39m<\u001b[39m\u001b[39m=\u001b[39m (Q1\u001b[39m-\u001b[39m\u001b[39m1.5\u001b[39m\u001b[39m*\u001b[39mIQR))\n\u001b[0;32m     18\u001b[0m \u001b[39m''' Removendo os Outliers '''\u001b[39;00m\n\u001b[1;32m---> 19\u001b[0m dfNumber\u001b[39m.\u001b[39;49mdrop(upper[\u001b[39m0\u001b[39;49m], inplace \u001b[39m=\u001b[39;49m \u001b[39mTrue\u001b[39;49;00m)\n\u001b[0;32m     20\u001b[0m dfNumber\u001b[39m.\u001b[39mdrop(lower[\u001b[39m0\u001b[39m], inplace \u001b[39m=\u001b[39m \u001b[39mTrue\u001b[39;00m)\n\u001b[0;32m     22\u001b[0m \u001b[39mprint\u001b[39m(\u001b[39m\"\u001b[39m\u001b[39mNew Shape: \u001b[39m\u001b[39m\"\u001b[39m, dfNumber\u001b[39m.\u001b[39mshape)\n",
      "File \u001b[1;32mc:\\Users\\Usuario\\miniconda3\\lib\\site-packages\\pandas\\util\\_decorators.py:311\u001b[0m, in \u001b[0;36mdeprecate_nonkeyword_arguments.<locals>.decorate.<locals>.wrapper\u001b[1;34m(*args, **kwargs)\u001b[0m\n\u001b[0;32m    305\u001b[0m \u001b[39mif\u001b[39;00m \u001b[39mlen\u001b[39m(args) \u001b[39m>\u001b[39m num_allow_args:\n\u001b[0;32m    306\u001b[0m     warnings\u001b[39m.\u001b[39mwarn(\n\u001b[0;32m    307\u001b[0m         msg\u001b[39m.\u001b[39mformat(arguments\u001b[39m=\u001b[39marguments),\n\u001b[0;32m    308\u001b[0m         \u001b[39mFutureWarning\u001b[39;00m,\n\u001b[0;32m    309\u001b[0m         stacklevel\u001b[39m=\u001b[39mstacklevel,\n\u001b[0;32m    310\u001b[0m     )\n\u001b[1;32m--> 311\u001b[0m \u001b[39mreturn\u001b[39;00m func(\u001b[39m*\u001b[39margs, \u001b[39m*\u001b[39m\u001b[39m*\u001b[39mkwargs)\n",
      "File \u001b[1;32mc:\\Users\\Usuario\\miniconda3\\lib\\site-packages\\pandas\\core\\frame.py:4957\u001b[0m, in \u001b[0;36mDataFrame.drop\u001b[1;34m(self, labels, axis, index, columns, level, inplace, errors)\u001b[0m\n\u001b[0;32m   4809\u001b[0m \u001b[39m@deprecate_nonkeyword_arguments\u001b[39m(version\u001b[39m=\u001b[39m\u001b[39mNone\u001b[39;00m, allowed_args\u001b[39m=\u001b[39m[\u001b[39m\"\u001b[39m\u001b[39mself\u001b[39m\u001b[39m\"\u001b[39m, \u001b[39m\"\u001b[39m\u001b[39mlabels\u001b[39m\u001b[39m\"\u001b[39m])\n\u001b[0;32m   4810\u001b[0m \u001b[39mdef\u001b[39;00m \u001b[39mdrop\u001b[39m(\n\u001b[0;32m   4811\u001b[0m     \u001b[39mself\u001b[39m,\n\u001b[1;32m   (...)\u001b[0m\n\u001b[0;32m   4818\u001b[0m     errors: \u001b[39mstr\u001b[39m \u001b[39m=\u001b[39m \u001b[39m\"\u001b[39m\u001b[39mraise\u001b[39m\u001b[39m\"\u001b[39m,\n\u001b[0;32m   4819\u001b[0m ):\n\u001b[0;32m   4820\u001b[0m     \u001b[39m\"\"\"\u001b[39;00m\n\u001b[0;32m   4821\u001b[0m \u001b[39m    Drop specified labels from rows or columns.\u001b[39;00m\n\u001b[0;32m   4822\u001b[0m \n\u001b[1;32m   (...)\u001b[0m\n\u001b[0;32m   4955\u001b[0m \u001b[39m            weight  1.0     0.8\u001b[39;00m\n\u001b[0;32m   4956\u001b[0m \u001b[39m    \"\"\"\u001b[39;00m\n\u001b[1;32m-> 4957\u001b[0m     \u001b[39mreturn\u001b[39;00m \u001b[39msuper\u001b[39;49m()\u001b[39m.\u001b[39;49mdrop(\n\u001b[0;32m   4958\u001b[0m         labels\u001b[39m=\u001b[39;49mlabels,\n\u001b[0;32m   4959\u001b[0m         axis\u001b[39m=\u001b[39;49maxis,\n\u001b[0;32m   4960\u001b[0m         index\u001b[39m=\u001b[39;49mindex,\n\u001b[0;32m   4961\u001b[0m         columns\u001b[39m=\u001b[39;49mcolumns,\n\u001b[0;32m   4962\u001b[0m         level\u001b[39m=\u001b[39;49mlevel,\n\u001b[0;32m   4963\u001b[0m         inplace\u001b[39m=\u001b[39;49minplace,\n\u001b[0;32m   4964\u001b[0m         errors\u001b[39m=\u001b[39;49merrors,\n\u001b[0;32m   4965\u001b[0m     )\n",
      "File \u001b[1;32mc:\\Users\\Usuario\\miniconda3\\lib\\site-packages\\pandas\\core\\generic.py:4267\u001b[0m, in \u001b[0;36mNDFrame.drop\u001b[1;34m(self, labels, axis, index, columns, level, inplace, errors)\u001b[0m\n\u001b[0;32m   4265\u001b[0m \u001b[39mfor\u001b[39;00m axis, labels \u001b[39min\u001b[39;00m axes\u001b[39m.\u001b[39mitems():\n\u001b[0;32m   4266\u001b[0m     \u001b[39mif\u001b[39;00m labels \u001b[39mis\u001b[39;00m \u001b[39mnot\u001b[39;00m \u001b[39mNone\u001b[39;00m:\n\u001b[1;32m-> 4267\u001b[0m         obj \u001b[39m=\u001b[39m obj\u001b[39m.\u001b[39;49m_drop_axis(labels, axis, level\u001b[39m=\u001b[39;49mlevel, errors\u001b[39m=\u001b[39;49merrors)\n\u001b[0;32m   4269\u001b[0m \u001b[39mif\u001b[39;00m inplace:\n\u001b[0;32m   4270\u001b[0m     \u001b[39mself\u001b[39m\u001b[39m.\u001b[39m_update_inplace(obj)\n",
      "File \u001b[1;32mc:\\Users\\Usuario\\miniconda3\\lib\\site-packages\\pandas\\core\\generic.py:4311\u001b[0m, in \u001b[0;36mNDFrame._drop_axis\u001b[1;34m(self, labels, axis, level, errors, consolidate, only_slice)\u001b[0m\n\u001b[0;32m   4309\u001b[0m         new_axis \u001b[39m=\u001b[39m axis\u001b[39m.\u001b[39mdrop(labels, level\u001b[39m=\u001b[39mlevel, errors\u001b[39m=\u001b[39merrors)\n\u001b[0;32m   4310\u001b[0m     \u001b[39melse\u001b[39;00m:\n\u001b[1;32m-> 4311\u001b[0m         new_axis \u001b[39m=\u001b[39m axis\u001b[39m.\u001b[39;49mdrop(labels, errors\u001b[39m=\u001b[39;49merrors)\n\u001b[0;32m   4312\u001b[0m     indexer \u001b[39m=\u001b[39m axis\u001b[39m.\u001b[39mget_indexer(new_axis)\n\u001b[0;32m   4314\u001b[0m \u001b[39m# Case for non-unique axis\u001b[39;00m\n\u001b[0;32m   4315\u001b[0m \u001b[39melse\u001b[39;00m:\n",
      "File \u001b[1;32mc:\\Users\\Usuario\\miniconda3\\lib\\site-packages\\pandas\\core\\indexes\\base.py:6661\u001b[0m, in \u001b[0;36mIndex.drop\u001b[1;34m(self, labels, errors)\u001b[0m\n\u001b[0;32m   6659\u001b[0m \u001b[39mif\u001b[39;00m mask\u001b[39m.\u001b[39many():\n\u001b[0;32m   6660\u001b[0m     \u001b[39mif\u001b[39;00m errors \u001b[39m!=\u001b[39m \u001b[39m\"\u001b[39m\u001b[39mignore\u001b[39m\u001b[39m\"\u001b[39m:\n\u001b[1;32m-> 6661\u001b[0m         \u001b[39mraise\u001b[39;00m \u001b[39mKeyError\u001b[39;00m(\u001b[39mf\u001b[39m\u001b[39m\"\u001b[39m\u001b[39m{\u001b[39;00m\u001b[39mlist\u001b[39m(labels[mask])\u001b[39m}\u001b[39;00m\u001b[39m not found in axis\u001b[39m\u001b[39m\"\u001b[39m)\n\u001b[0;32m   6662\u001b[0m     indexer \u001b[39m=\u001b[39m indexer[\u001b[39m~\u001b[39mmask]\n\u001b[0;32m   6663\u001b[0m \u001b[39mreturn\u001b[39;00m \u001b[39mself\u001b[39m\u001b[39m.\u001b[39mdelete(indexer)\n",
      "\u001b[1;31mKeyError\u001b[0m: '[52, 61, 62, 63, 69, 70, 73, 74, 78, 82, 87, 151, 3039, 3239, 3244, 3251, 3326, 3331, 3332, 3333, 3334, 3335, 3336, 3337, 3338, 3339, 3340, 3341, 3342, 3343, 3344, 3345, 3346, 3347, 3348, 3349, 3350, 3351, 3352, 3353, 3354, 3355, 3356, 3357, 3358, 3359, 3360, 3361, 3362, 3363, 3364, 3365, 3366, 3367, 3368, 3369, 3370, 3371, 3372, 3373, 3374, 3377, 3379, 3380, 3383, 3389, 3476, 3490, 3494, 3495, 3496, 3497, 3498, 3500, 3501, 3512, 3513, 3523, 3535, 3536, 3537, 3538, 3540, 3543, 3544, 3545, 3573, 3733, 3739, 3740, 3748, 3755, 3756, 10849, 10945, 12341, 14261, 14262, 14263, 16334, 16335, 16336, 16338, 16339, 16340, 16341, 16342, 16343, 16344, 18651, 18652, 18653, 18654, 19691, 19692, 19693, 19694, 19695, 21323, 21324, 21325, 29036, 32138, 32316, 32372, 32373, 32374, 32375, 32376, 32390, 32391, 32420, 32425, 32426, 32427, 32434, 32442, 32446, 32451, 32453, 32459, 32677, 32678, 32679, 32680, 35735, 35761, 35762, 35763, 35764, 35765, 35766, 35767, 35768, 35769, 35770, 35771, 35772, 35773, 35774, 35775, 35776, 35777, 35778, 35779, 35780, 35781, 35782, 35783, 35784, 36028, 36029, 36030, 38908, 38910, 38912, 38913, 38914, 38917, 38918, 38919, 38921, 38922, 38923, 38928, 38930, 38931, 38987, 39012, 39013, 39017, 39018, 39024, 39026, 39028, 39029, 39033, 39050, 39055, 39059, 39135, 41304, 41309, 41310, 42072, 42073, 42074, 42079, 42080, 42081, 42092, 42094, 42095, 42097, 42101, 42103, 42104, 42107, 42109, 42110, 43316, 43317, 43606, 43628, 44875, 47436, 47438, 47439, 47440, 47445, 47446, 48688, 50166, 50167, 50168, 50170, 50171, 50175, 50176, 50188, 50189, 50190, 55844, 55845, 55847, 55851, 55852, 55855, 55856, 55857, 55860, 55861, 55862, 55863, 55864, 55865, 55866, 55867, 55868, 55869, 55870, 55872, 55881, 55885, 60342, 60343, 63574, 64856, 64864, 64871, 64872, 64927, 65609, 65891, 66662, 66663, 66667, 66671, 66672, 66673, 66677, 68117, 68118, 68127, 68135, 68136, 68139, 68140, 68141, 68142, 68143, 68144, 68145, 68146, 68147, 68148, 68149, 68150, 68151, 68152, 68153, 68154, 68155, 68156, 68157, 68158, 68159, 68160, 68161, 68162, 68163, 68164, 68295, 68296, 68321, 68322, 68323, 68560, 68585, 68592, 68600, 68602, 68604, 68612, 68613, 68617, 68620, 68622, 68623, 68625, 68767, 68852, 68853, 68854, 68856, 68871, 68878, 68879, 68880, 68881, 68882, 68883, 69291, 69293, 70387, 71757, 71764, 71765, 71766, 71767, 71770, 71783, 71784, 71792, 71798, 71800, 71801, 71802, 71803, 71806, 71807, 71811, 71816, 71820, 71821, 71824, 71826, 71827, 71828, 71829, 71830, 71831, 71832, 71833, 71834, 71835, 71836, 71837, 71839, 71840, 71841, 71854, 71855, 71856, 71867, 71889, 71895, 71919, 71942, 71944, 71945, 72009, 72011, 72030, 72035, 72042, 72043, 72044, 72048, 72052, 72053, 72054, 72055, 72056, 72057, 72058, 72064, 72065, 72066, 72090, 72100, 72101, 72102, 72473, 75837, 75840, 75842, 76615, 76616, 76617, 76618, 77650, 77651, 78423, 79986, 79987, 79999, 80001, 80002, 80003, 86766, 97226, 97227, 97228, 97229, 97230, 97231, 97232, 97233, 97234, 97235, 97236, 97237, 97239, 97240, 97241, 97242, 97243, 97244, 97245, 97246, 97247, 97248, 97249, 97250, 97251, 97252, 97253, 97254, 97255, 97256, 97257, 97258, 97259, 97260, 97261, 97262, 97263, 97264, 97265, 97266, 97267, 97268, 97269, 97270, 97271, 97272, 97273, 97274, 97275, 97276, 97708, 100465, 100896, 110693, 113009, 113014, 120380, 120385, 120602, 121016, 121017, 127901, 129026, 129027, 129028, 129029, 129030, 129031, 129032, 132716, 132717, 132718, 132719, 132721, 132722, 132723, 132725, 132728, 132729, 132730, 132731, 132732, 132733, 132734, 132736, 132737, 132738, 132739, 132740, 132741, 132742, 132744, 132745, 132747, 132748, 132749, 132750, 132752, 132753, 132755, 132756, 132760, 132761, 132762, 132842, 132843, 132849, 132850, 140439] not found in axis'"
     ]
    }
   ],
   "source": [
    "dfNumberCol = list(dfNumber.columns)\n",
    "for coluna in dfNumberCol:\n",
    "    dfNumber[coluna] = RemoverOutlier(dfNumber[coluna])"
   ]
  },
  {
   "cell_type": "code",
   "execution_count": null,
   "metadata": {},
   "outputs": [],
   "source": [
    "dfNumber['Weekly_Sales']= removeOutlier(dfNumber['Weekly_Sales'])\n",
    "dfNumber['Temperature']= removeOutlier(dfNumber['Temperature'])"
   ]
  },
  {
   "cell_type": "code",
   "execution_count": null,
   "metadata": {},
   "outputs": [
    {
     "data": {
      "text/html": [
       "<div>\n",
       "<style scoped>\n",
       "    .dataframe tbody tr th:only-of-type {\n",
       "        vertical-align: middle;\n",
       "    }\n",
       "\n",
       "    .dataframe tbody tr th {\n",
       "        vertical-align: top;\n",
       "    }\n",
       "\n",
       "    .dataframe thead th {\n",
       "        text-align: right;\n",
       "    }\n",
       "</style>\n",
       "<table border=\"1\" class=\"dataframe\">\n",
       "  <thead>\n",
       "    <tr style=\"text-align: right;\">\n",
       "      <th></th>\n",
       "      <th>Weekly_Sales</th>\n",
       "      <th>Temperature</th>\n",
       "      <th>Fuel_Price</th>\n",
       "      <th>MarkDown1</th>\n",
       "      <th>MarkDown2</th>\n",
       "      <th>MarkDown3</th>\n",
       "      <th>MarkDown5</th>\n",
       "      <th>CPI</th>\n",
       "      <th>Unemployment</th>\n",
       "      <th>Size</th>\n",
       "    </tr>\n",
       "  </thead>\n",
       "  <tbody>\n",
       "    <tr>\n",
       "      <th>count</th>\n",
       "      <td>1.543310e+05</td>\n",
       "      <td>1.543310e+05</td>\n",
       "      <td>154331.000000</td>\n",
       "      <td>154331.000000</td>\n",
       "      <td>154331.000000</td>\n",
       "      <td>154331.000000</td>\n",
       "      <td>154331.000000</td>\n",
       "      <td>154331.000000</td>\n",
       "      <td>154331.000000</td>\n",
       "      <td>154331.000000</td>\n",
       "    </tr>\n",
       "    <tr>\n",
       "      <th>mean</th>\n",
       "      <td>2.079758e+04</td>\n",
       "      <td>6.931000e+01</td>\n",
       "      <td>3.630823</td>\n",
       "      <td>6808.627640</td>\n",
       "      <td>2402.416006</td>\n",
       "      <td>1276.404115</td>\n",
       "      <td>4264.093468</td>\n",
       "      <td>174.466501</td>\n",
       "      <td>7.470799</td>\n",
       "      <td>136390.997564</td>\n",
       "    </tr>\n",
       "    <tr>\n",
       "      <th>std</th>\n",
       "      <td>1.091397e-11</td>\n",
       "      <td>4.263270e-14</td>\n",
       "      <td>0.278647</td>\n",
       "      <td>8389.919216</td>\n",
       "      <td>8183.055587</td>\n",
       "      <td>9081.302129</td>\n",
       "      <td>6006.460415</td>\n",
       "      <td>40.183156</td>\n",
       "      <td>1.737576</td>\n",
       "      <td>61092.156808</td>\n",
       "    </tr>\n",
       "    <tr>\n",
       "      <th>min</th>\n",
       "      <td>2.079758e+04</td>\n",
       "      <td>6.931000e+01</td>\n",
       "      <td>3.031000</td>\n",
       "      <td>0.000000</td>\n",
       "      <td>-265.760000</td>\n",
       "      <td>-29.100000</td>\n",
       "      <td>0.000000</td>\n",
       "      <td>129.693800</td>\n",
       "      <td>4.077000</td>\n",
       "      <td>34875.000000</td>\n",
       "    </tr>\n",
       "    <tr>\n",
       "      <th>25%</th>\n",
       "      <td>2.079758e+04</td>\n",
       "      <td>6.931000e+01</td>\n",
       "      <td>3.417000</td>\n",
       "      <td>1064.810000</td>\n",
       "      <td>0.000000</td>\n",
       "      <td>1.190000</td>\n",
       "      <td>1508.560000</td>\n",
       "      <td>136.478800</td>\n",
       "      <td>6.432000</td>\n",
       "      <td>93638.000000</td>\n",
       "    </tr>\n",
       "    <tr>\n",
       "      <th>50%</th>\n",
       "      <td>2.079758e+04</td>\n",
       "      <td>6.931000e+01</td>\n",
       "      <td>3.633000</td>\n",
       "      <td>4923.890000</td>\n",
       "      <td>58.480000</td>\n",
       "      <td>13.100000</td>\n",
       "      <td>3029.000000</td>\n",
       "      <td>188.350400</td>\n",
       "      <td>7.280000</td>\n",
       "      <td>140167.000000</td>\n",
       "    </tr>\n",
       "    <tr>\n",
       "      <th>75%</th>\n",
       "      <td>2.079758e+04</td>\n",
       "      <td>6.931000e+01</td>\n",
       "      <td>3.827000</td>\n",
       "      <td>8920.010000</td>\n",
       "      <td>599.500000</td>\n",
       "      <td>83.070000</td>\n",
       "      <td>5335.650000</td>\n",
       "      <td>219.179453</td>\n",
       "      <td>8.256000</td>\n",
       "      <td>202505.000000</td>\n",
       "    </tr>\n",
       "    <tr>\n",
       "      <th>max</th>\n",
       "      <td>2.079758e+04</td>\n",
       "      <td>6.931000e+01</td>\n",
       "      <td>4.308000</td>\n",
       "      <td>88646.760000</td>\n",
       "      <td>104519.540000</td>\n",
       "      <td>141630.610000</td>\n",
       "      <td>108519.280000</td>\n",
       "      <td>226.763073</td>\n",
       "      <td>12.890000</td>\n",
       "      <td>219622.000000</td>\n",
       "    </tr>\n",
       "  </tbody>\n",
       "</table>\n",
       "</div>"
      ],
      "text/plain": [
       "       Weekly_Sales   Temperature     Fuel_Price      MarkDown1  \\\n",
       "count  1.543310e+05  1.543310e+05  154331.000000  154331.000000   \n",
       "mean   2.079758e+04  6.931000e+01       3.630823    6808.627640   \n",
       "std    1.091397e-11  4.263270e-14       0.278647    8389.919216   \n",
       "min    2.079758e+04  6.931000e+01       3.031000       0.000000   \n",
       "25%    2.079758e+04  6.931000e+01       3.417000    1064.810000   \n",
       "50%    2.079758e+04  6.931000e+01       3.633000    4923.890000   \n",
       "75%    2.079758e+04  6.931000e+01       3.827000    8920.010000   \n",
       "max    2.079758e+04  6.931000e+01       4.308000   88646.760000   \n",
       "\n",
       "           MarkDown2      MarkDown3      MarkDown5            CPI  \\\n",
       "count  154331.000000  154331.000000  154331.000000  154331.000000   \n",
       "mean     2402.416006    1276.404115    4264.093468     174.466501   \n",
       "std      8183.055587    9081.302129    6006.460415      40.183156   \n",
       "min      -265.760000     -29.100000       0.000000     129.693800   \n",
       "25%         0.000000       1.190000    1508.560000     136.478800   \n",
       "50%        58.480000      13.100000    3029.000000     188.350400   \n",
       "75%       599.500000      83.070000    5335.650000     219.179453   \n",
       "max    104519.540000  141630.610000  108519.280000     226.763073   \n",
       "\n",
       "        Unemployment           Size  \n",
       "count  154331.000000  154331.000000  \n",
       "mean        7.470799  136390.997564  \n",
       "std         1.737576   61092.156808  \n",
       "min         4.077000   34875.000000  \n",
       "25%         6.432000   93638.000000  \n",
       "50%         7.280000  140167.000000  \n",
       "75%         8.256000  202505.000000  \n",
       "max        12.890000  219622.000000  "
      ]
     },
     "execution_count": 69,
     "metadata": {},
     "output_type": "execute_result"
    }
   ],
   "source": [
    "dfNumber.describe()"
   ]
  },
  {
   "cell_type": "code",
   "execution_count": null,
   "metadata": {},
   "outputs": [],
   "source": [
    "\"\"\" #Aplica a Função em todas as colunas númericas que \n",
    "for remover in dfNumber[dfNumberCol]:\n",
    "    removeOutlier(values=remover) \"\"\""
   ]
  },
  {
   "cell_type": "code",
   "execution_count": 123,
   "metadata": {},
   "outputs": [
    {
     "data": {
      "image/png": "[encoded data removed]",
      "text/plain": [
       "<Figure size 1000x800 with 1 Axes>"
      ]
     },
     "metadata": {},
     "output_type": "display_data"
    }
   ],
   "source": [
    "# Análise exploratória, através do Boxplot, para verificação de presença de Outliers\n",
    "plt.figure(figsize=(10,8))\n",
    "plt.title(\"Boxplot das 11 variáveis numéricas\", loc='left')\n",
    "ax = sns.boxplot(data = dfNumber[\"Weekly_Sales\"])\n",
    "plt.show()"
   ]
  }
 ],
 "metadata": {
  "colab": {
   "name": "hackathon_grupo10_21_05_2022.ipynb",
   "provenance": []
  },
  "kernelspec": {
   "display_name": "Python 3.9.15 ('base')",
   "language": "python",
   "name": "python3"
  },
  "language_info": {
   "codemirror_mode": {
    "name": "ipython",
    "version": 3
   },
   "file_extension": ".py",
   "mimetype": "text/x-python",
   "name": "python",
   "nbconvert_exporter": "python",
   "pygments_lexer": "ipython3",
   "version": "3.9.15"
  },
  "vscode": {
   "interpreter": {
    "hash": "4c6b9d4ed2a07bbca30b882861c661e078421cec4e51290af7d4840971f56ca6"
   }
  }
 },
 "nbformat": 4,
 "nbformat_minor": 4
}
